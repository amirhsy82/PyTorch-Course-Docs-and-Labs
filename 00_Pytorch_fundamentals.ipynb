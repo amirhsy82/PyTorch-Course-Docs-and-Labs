{
  "cells": [
    {
      "cell_type": "code",
      "execution_count": 80,
      "metadata": {
        "colab": {
          "base_uri": "https://localhost:8080/"
        },
        "id": "IS0koF5BhD2x",
        "outputId": "b60c0a01-b8c5-455b-8c9c-4a3b6633f2a9"
      },
      "outputs": [
        {
          "output_type": "stream",
          "name": "stdout",
          "text": [
            "/bin/bash: line 1: nvidia-smi: command not found\n"
          ]
        }
      ],
      "source": [
        "!nvidia-smi"
      ]
    },
    {
      "cell_type": "markdown",
      "metadata": {
        "id": "-edXBpLlhpzm"
      },
      "source": [
        "## 00. PyTorch Fundamentals\n",
        "\n",
        "Resource notebook: https://www.learnpytorch.io/00_pytorch_fundamentals/\n",
        "\n",
        "If you have a question See github Page"
      ]
    },
    {
      "cell_type": "code",
      "execution_count": 81,
      "metadata": {
        "colab": {
          "base_uri": "https://localhost:8080/"
        },
        "id": "NncTCozwh_4p",
        "outputId": "2d887c5e-292b-41da-c51c-f0c147e77a2a"
      },
      "outputs": [
        {
          "output_type": "stream",
          "name": "stdout",
          "text": [
            "2.4.1+cu121\n"
          ]
        }
      ],
      "source": [
        "import torch\n",
        "import pandas as pd\n",
        "import numpy as np\n",
        "import matplotlib.pyplot as plt\n",
        "print(torch.__version__)"
      ]
    },
    {
      "cell_type": "markdown",
      "metadata": {
        "id": "pBPguTFeis4N"
      },
      "source": [
        "## Intrpduction to Tensors\n",
        "\n",
        "### Creating Tensor"
      ]
    },
    {
      "cell_type": "code",
      "execution_count": 82,
      "metadata": {
        "colab": {
          "base_uri": "https://localhost:8080/"
        },
        "id": "6zGfyHwTj2pf",
        "outputId": "96f9e494-4bc2-410a-a9fb-0a286676ea65"
      },
      "outputs": [
        {
          "output_type": "stream",
          "name": "stdout",
          "text": [
            "tensor(7)\n"
          ]
        }
      ],
      "source": [
        "# Scalar\n",
        "scalar = torch.tensor(7)\n",
        "print(scalar)"
      ]
    },
    {
      "cell_type": "code",
      "execution_count": 83,
      "metadata": {
        "colab": {
          "base_uri": "https://localhost:8080/"
        },
        "id": "kSfjkM9DkGbX",
        "outputId": "5e4ea271-ced9-40c6-a774-2dc82808b619"
      },
      "outputs": [
        {
          "output_type": "execute_result",
          "data": {
            "text/plain": [
              "0"
            ]
          },
          "metadata": {},
          "execution_count": 83
        }
      ],
      "source": [
        "# Scalar is just a single number\n",
        "scalar.ndim"
      ]
    },
    {
      "cell_type": "code",
      "execution_count": 84,
      "metadata": {
        "colab": {
          "base_uri": "https://localhost:8080/"
        },
        "id": "pzGpHDUgk0Og",
        "outputId": "943432b0-6752-42ad-a59d-bdb6765aba42"
      },
      "outputs": [
        {
          "output_type": "execute_result",
          "data": {
            "text/plain": [
              "7"
            ]
          },
          "metadata": {},
          "execution_count": 84
        }
      ],
      "source": [
        "# Turn Tensor back as Python intiger\n",
        "scalar.item()"
      ]
    },
    {
      "cell_type": "code",
      "execution_count": 85,
      "metadata": {
        "colab": {
          "base_uri": "https://localhost:8080/"
        },
        "id": "wZ8RV5kmlBJw",
        "outputId": "da4d0b78-f149-4ebd-fdc3-eee5d58bf6b0"
      },
      "outputs": [
        {
          "output_type": "stream",
          "name": "stdout",
          "text": [
            "tensor([ 7, 17])\n"
          ]
        }
      ],
      "source": [
        "# Vector\n",
        "vector = torch.tensor([7, 17])\n",
        "print(vector)"
      ]
    },
    {
      "cell_type": "code",
      "execution_count": 86,
      "metadata": {
        "colab": {
          "base_uri": "https://localhost:8080/"
        },
        "id": "nv5zQbJllObI",
        "outputId": "7bdbf7eb-41a5-495e-c902-7e35bf5a622a"
      },
      "outputs": [
        {
          "output_type": "execute_result",
          "data": {
            "text/plain": [
              "1"
            ]
          },
          "metadata": {},
          "execution_count": 86
        }
      ],
      "source": [
        "# number of Square BracketS = Dimension\n",
        "vector.ndim"
      ]
    },
    {
      "cell_type": "code",
      "execution_count": 87,
      "metadata": {
        "colab": {
          "base_uri": "https://localhost:8080/"
        },
        "id": "U9-cmYualbtJ",
        "outputId": "3d68ae49-df28-481d-dd51-a35da81127b9"
      },
      "outputs": [
        {
          "output_type": "execute_result",
          "data": {
            "text/plain": [
              "torch.Size([2])"
            ]
          },
          "metadata": {},
          "execution_count": 87
        }
      ],
      "source": [
        "vector.shape"
      ]
    },
    {
      "cell_type": "code",
      "execution_count": 88,
      "metadata": {
        "colab": {
          "base_uri": "https://localhost:8080/"
        },
        "id": "qttapm-Tlfch",
        "outputId": "887e95be-4d32-4615-99ef-fcf0347e7346"
      },
      "outputs": [
        {
          "output_type": "execute_result",
          "data": {
            "text/plain": [
              "tensor([[ 7,  8],\n",
              "        [ 9, 10]])"
            ]
          },
          "metadata": {},
          "execution_count": 88
        }
      ],
      "source": [
        "# Matrix\n",
        "MATRIX = torch.tensor([[7, 8],\n",
        "                      [9, 10]])\n",
        "MATRIX"
      ]
    },
    {
      "cell_type": "code",
      "execution_count": 89,
      "metadata": {
        "colab": {
          "base_uri": "https://localhost:8080/"
        },
        "id": "zBU9XM7ZnwFK",
        "outputId": "aa0df199-22a1-48c5-e096-d6d811c57036"
      },
      "outputs": [
        {
          "output_type": "execute_result",
          "data": {
            "text/plain": [
              "2"
            ]
          },
          "metadata": {},
          "execution_count": 89
        }
      ],
      "source": [
        "  MATRIX.ndim"
      ]
    },
    {
      "cell_type": "code",
      "execution_count": 90,
      "metadata": {
        "colab": {
          "base_uri": "https://localhost:8080/"
        },
        "id": "s8uphl1MoAZP",
        "outputId": "821d7946-ae5e-4f5d-cdb0-089482d3fe8c"
      },
      "outputs": [
        {
          "output_type": "execute_result",
          "data": {
            "text/plain": [
              "torch.Size([2, 2])"
            ]
          },
          "metadata": {},
          "execution_count": 90
        }
      ],
      "source": [
        "MATRIX.shape"
      ]
    },
    {
      "cell_type": "code",
      "execution_count": 91,
      "metadata": {
        "colab": {
          "base_uri": "https://localhost:8080/"
        },
        "id": "b5eCTl7zoEMT",
        "outputId": "6053b3c2-4b45-4dd3-9036-46028c216ba4"
      },
      "outputs": [
        {
          "output_type": "execute_result",
          "data": {
            "text/plain": [
              "tensor([7, 8])"
            ]
          },
          "metadata": {},
          "execution_count": 91
        }
      ],
      "source": [
        "MATRIX[0]"
      ]
    },
    {
      "cell_type": "code",
      "execution_count": 92,
      "metadata": {
        "colab": {
          "base_uri": "https://localhost:8080/"
        },
        "id": "GOjy7t6voItC",
        "outputId": "7e718568-8e92-40a3-b1e0-80fc9567128a"
      },
      "outputs": [
        {
          "output_type": "execute_result",
          "data": {
            "text/plain": [
              "tensor([[[ 1,  2,  3],\n",
              "         [ 3,  6,  9],\n",
              "         [ 4,  6, 10]],\n",
              "\n",
              "        [[11, 12, 13],\n",
              "         [24, 49, 75],\n",
              "         [40, 90, 83]]])"
            ]
          },
          "metadata": {},
          "execution_count": 92
        }
      ],
      "source": [
        "# Tensor\n",
        "TENSOR = torch.tensor([[[1, 2, 3],\n",
        "                        [3, 6, 9],\n",
        "                        [4, 6, 10]],\n",
        "\n",
        "                       [[11, 12, 13],\n",
        "                        [24, 49, 75],\n",
        "                        [40, 90, 83]]])\n",
        "TENSOR"
      ]
    },
    {
      "cell_type": "code",
      "execution_count": 93,
      "metadata": {
        "colab": {
          "base_uri": "https://localhost:8080/"
        },
        "id": "jNqYm3OvovFG",
        "outputId": "f787f3df-f258-4b80-ec46-e2d69b913b48"
      },
      "outputs": [
        {
          "output_type": "execute_result",
          "data": {
            "text/plain": [
              "3"
            ]
          },
          "metadata": {},
          "execution_count": 93
        }
      ],
      "source": [
        "TENSOR.ndim"
      ]
    },
    {
      "cell_type": "code",
      "execution_count": 94,
      "metadata": {
        "colab": {
          "base_uri": "https://localhost:8080/"
        },
        "id": "xAdrdCgBox2e",
        "outputId": "52ea41ed-f3a9-46c3-bba4-ee01cfa725ff"
      },
      "outputs": [
        {
          "output_type": "execute_result",
          "data": {
            "text/plain": [
              "torch.Size([2, 3, 3])"
            ]
          },
          "metadata": {},
          "execution_count": 94
        }
      ],
      "source": [
        "TENSOR.shape"
      ]
    },
    {
      "cell_type": "code",
      "execution_count": 95,
      "metadata": {
        "colab": {
          "base_uri": "https://localhost:8080/"
        },
        "id": "z1YKaAFoo6wJ",
        "outputId": "75a0609e-1185-4be5-a2b2-755245bd505f"
      },
      "outputs": [
        {
          "output_type": "execute_result",
          "data": {
            "text/plain": [
              "tensor([[11, 12, 13],\n",
              "        [24, 49, 75],\n",
              "        [40, 90, 83]])"
            ]
          },
          "metadata": {},
          "execution_count": 95
        }
      ],
      "source": [
        "TENSOR[1]"
      ]
    },
    {
      "cell_type": "markdown",
      "metadata": {
        "id": "ZqReciLupB-C"
      },
      "source": [
        "### Random Tensors?\n",
        "\n",
        "Why Random Tensors?\n",
        "\n",
        "Random tensors are important because the way many neural networks learn is that they start with random numbers and then adjust those random numbers to better represent the data.\n",
        "\n",
        "` Start with random numbers -> look at data -> update random numbers`\n",
        "\n",
        "\n",
        "\n"
      ]
    },
    {
      "cell_type": "markdown",
      "metadata": {
        "id": "3_mE5JSBy4-4"
      },
      "source": [
        "### torch.rand\n",
        "Returns a tensor filled with random numbers from a uniform distribution on the interval [0, 1)\n",
        "\n",
        "See Documantation on https://pytorch.org/docs/stable/generated/torch.rand.html"
      ]
    },
    {
      "cell_type": "code",
      "execution_count": 96,
      "metadata": {
        "colab": {
          "base_uri": "https://localhost:8080/"
        },
        "id": "hXDdSHnVxJGs",
        "outputId": "7d79445f-fda4-4f65-dcbb-b183b7f9cf0f"
      },
      "outputs": [
        {
          "output_type": "stream",
          "name": "stdout",
          "text": [
            "tensor([[0.8694, 0.5677, 0.7411, 0.4294],\n",
            "        [0.8854, 0.5739, 0.2666, 0.6274],\n",
            "        [0.2696, 0.4414, 0.2969, 0.8317]])\n"
          ]
        }
      ],
      "source": [
        "#Create Random Tensors of shape (3, 4)\n",
        "\n",
        "random_tensor = torch.rand(3, 4)\n",
        "print(random_tensor)"
      ]
    },
    {
      "cell_type": "code",
      "execution_count": 97,
      "metadata": {
        "colab": {
          "base_uri": "https://localhost:8080/"
        },
        "id": "gv1FshK8zB8_",
        "outputId": "05aa1324-654d-4c89-e19a-906c8630f824"
      },
      "outputs": [
        {
          "output_type": "execute_result",
          "data": {
            "text/plain": [
              "2"
            ]
          },
          "metadata": {},
          "execution_count": 97
        }
      ],
      "source": [
        "random_tensor.ndim"
      ]
    },
    {
      "cell_type": "code",
      "execution_count": 98,
      "metadata": {
        "colab": {
          "base_uri": "https://localhost:8080/"
        },
        "id": "-IcJUw_Yza4o",
        "outputId": "b9c1df20-4e33-4f34-d38d-cf1cf90ba1ed"
      },
      "outputs": [
        {
          "output_type": "stream",
          "name": "stdout",
          "text": [
            "tensor([[[0.1053, 0.2695, 0.3588, 0.1994, 0.5472, 0.0062, 0.9516, 0.0753,\n",
            "          0.8860, 0.5832],\n",
            "         [0.3376, 0.8090, 0.5779, 0.9040, 0.5547, 0.3423, 0.6343, 0.3644,\n",
            "          0.7104, 0.9464],\n",
            "         [0.7890, 0.2814, 0.7886, 0.5895, 0.7539, 0.1952, 0.0050, 0.3068,\n",
            "          0.1165, 0.9103],\n",
            "         [0.6440, 0.7071, 0.6581, 0.4913, 0.8913, 0.1447, 0.5315, 0.1587,\n",
            "          0.6542, 0.3278],\n",
            "         [0.6532, 0.3958, 0.9147, 0.2036, 0.2018, 0.2018, 0.9497, 0.6666,\n",
            "          0.9811, 0.0874],\n",
            "         [0.0041, 0.1088, 0.1637, 0.7025, 0.6790, 0.9155, 0.2418, 0.1591,\n",
            "          0.7653, 0.2979],\n",
            "         [0.8035, 0.3813, 0.7860, 0.1115, 0.2477, 0.6524, 0.6057, 0.3725,\n",
            "          0.7980, 0.8399],\n",
            "         [0.1374, 0.2331, 0.9578, 0.3313, 0.3227, 0.0162, 0.2137, 0.6249,\n",
            "          0.4340, 0.1371],\n",
            "         [0.5117, 0.1585, 0.0758, 0.2247, 0.0624, 0.1816, 0.9998, 0.5944,\n",
            "          0.6541, 0.0337],\n",
            "         [0.1716, 0.3336, 0.5782, 0.0600, 0.2846, 0.2007, 0.5014, 0.3139,\n",
            "          0.4654, 0.1612]]])\n",
            "number of dimensions: 3\n"
          ]
        }
      ],
      "source": [
        "#more examples of random tensor\n",
        "\n",
        "TENSOR_1 = torch.rand(1, 10, 10)\n",
        "print(TENSOR_1)\n",
        "print(f'number of dimensions: {TENSOR_1.ndim}')"
      ]
    },
    {
      "cell_type": "code",
      "execution_count": 99,
      "metadata": {
        "colab": {
          "base_uri": "https://localhost:8080/"
        },
        "id": "lrWJ5bX9zoaq",
        "outputId": "753f1ec2-d683-4f46-b7ae-ba67fbe82f71"
      },
      "outputs": [
        {
          "output_type": "execute_result",
          "data": {
            "text/plain": [
              "(torch.Size([224, 224, 3]), 3)"
            ]
          },
          "metadata": {},
          "execution_count": 99
        }
      ],
      "source": [
        "# Create a random tensor with similar shape to an image tensor\n",
        "random_image_size_tensor = torch.rand(size=(224, 224, 3)) # height, widht, color channels(RGB)\n",
        "random_image_size_tensor.shape, random_image_size_tensor.ndim"
      ]
    },
    {
      "cell_type": "markdown",
      "metadata": {
        "id": "EdJ4Ty970_LV"
      },
      "source": [
        "### Zeros and ones"
      ]
    },
    {
      "cell_type": "code",
      "execution_count": 100,
      "metadata": {
        "colab": {
          "base_uri": "https://localhost:8080/"
        },
        "id": "_Gl-XIzV4fe8",
        "outputId": "654a3e99-f354-44cf-b35d-427f11a5e6ab"
      },
      "outputs": [
        {
          "output_type": "execute_result",
          "data": {
            "text/plain": [
              "tensor([[0., 0., 0., 0.],\n",
              "        [0., 0., 0., 0.],\n",
              "        [0., 0., 0., 0.]])"
            ]
          },
          "metadata": {},
          "execution_count": 100
        }
      ],
      "source": [
        "# Create a tensor of all zeros\n",
        "zeros = torch.zeros(size=(3, 4))\n",
        "zeros"
      ]
    },
    {
      "cell_type": "code",
      "execution_count": 101,
      "metadata": {
        "colab": {
          "base_uri": "https://localhost:8080/"
        },
        "id": "LkcbGhPP4iiI",
        "outputId": "306182b3-2f13-41cf-e387-541f401b1b05"
      },
      "outputs": [
        {
          "output_type": "execute_result",
          "data": {
            "text/plain": [
              "tensor([[0., 0., 0., 0.],\n",
              "        [0., 0., 0., 0.],\n",
              "        [0., 0., 0., 0.]])"
            ]
          },
          "metadata": {},
          "execution_count": 101
        }
      ],
      "source": [
        "zeros * random_tensor"
      ]
    },
    {
      "cell_type": "code",
      "execution_count": 102,
      "metadata": {
        "colab": {
          "base_uri": "https://localhost:8080/"
        },
        "id": "oSQUhtzz5YC4",
        "outputId": "71de6063-b0b4-488f-8873-79691099fe4a"
      },
      "outputs": [
        {
          "output_type": "execute_result",
          "data": {
            "text/plain": [
              "tensor([[1., 1., 1., 1.],\n",
              "        [1., 1., 1., 1.],\n",
              "        [1., 1., 1., 1.]])"
            ]
          },
          "metadata": {},
          "execution_count": 102
        }
      ],
      "source": [
        "# Create tensor of all ones\n",
        "ones = torch.ones(size=(3, 4))\n",
        "ones"
      ]
    },
    {
      "cell_type": "code",
      "execution_count": 103,
      "metadata": {
        "colab": {
          "base_uri": "https://localhost:8080/"
        },
        "id": "Rb43TKB85gum",
        "outputId": "18b6f5dc-7153-4963-f1e7-5fb621ff917c"
      },
      "outputs": [
        {
          "output_type": "execute_result",
          "data": {
            "text/plain": [
              "torch.float32"
            ]
          },
          "metadata": {},
          "execution_count": 103
        }
      ],
      "source": [
        "ones.dtype"
      ]
    },
    {
      "cell_type": "markdown",
      "metadata": {
        "id": "Qmjna9_15jDX"
      },
      "source": [
        "### Creating a range of tensors and tensors-like"
      ]
    },
    {
      "cell_type": "code",
      "execution_count": 104,
      "metadata": {
        "colab": {
          "base_uri": "https://localhost:8080/"
        },
        "id": "7bh4H_Sn55Nq",
        "outputId": "4304fb0a-8e42-4ffd-89ae-86838634e51c"
      },
      "outputs": [
        {
          "output_type": "execute_result",
          "data": {
            "text/plain": [
              "tensor([1, 2, 3, 4, 5, 6, 7, 8, 9])"
            ]
          },
          "metadata": {},
          "execution_count": 104
        }
      ],
      "source": [
        "# Use torch.arange()\n",
        "one_to_ten = torch.arange(1, 10)\n",
        "one_to_ten"
      ]
    },
    {
      "cell_type": "code",
      "execution_count": 105,
      "metadata": {
        "colab": {
          "base_uri": "https://localhost:8080/"
        },
        "id": "JaUBnPwk6N3x",
        "outputId": "e88e2858-4f68-4bd2-d6b0-64c48c600661"
      },
      "outputs": [
        {
          "output_type": "execute_result",
          "data": {
            "text/plain": [
              "tensor([1, 2, 3, 4, 5, 6, 7, 8, 9])"
            ]
          },
          "metadata": {},
          "execution_count": 105
        }
      ],
      "source": [
        "# another impleamentation\n",
        "one_to_nine = torch.arange(start=1, end=10, step=1)\n",
        "one_to_nine"
      ]
    },
    {
      "cell_type": "code",
      "execution_count": 106,
      "metadata": {
        "colab": {
          "base_uri": "https://localhost:8080/"
        },
        "id": "mX3W92iB7igJ",
        "outputId": "ef3d0783-bf59-480b-9d86-624f9c9b82ed"
      },
      "outputs": [
        {
          "output_type": "execute_result",
          "data": {
            "text/plain": [
              "tensor([0, 0, 0, 0, 0, 0, 0, 0, 0])"
            ]
          },
          "metadata": {},
          "execution_count": 106
        }
      ],
      "source": [
        "# Creating tensors like\n",
        "ten_zeros = torch.zeros_like(input=one_to_ten)\n",
        "ten_zeros"
      ]
    },
    {
      "cell_type": "markdown",
      "metadata": {
        "id": "gBKRcV3B8cdF"
      },
      "source": [
        "### Tensor datatype\n",
        "\n",
        "**NOTE:** Tensor datatypes is one of the 3 big errors you'll run into with Pytorch and deep learning:\n",
        "\n",
        "1. Tensors not right datatype\n",
        "2. Tensors not right shape\n",
        "3. Tensors not on the right device"
      ]
    },
    {
      "cell_type": "code",
      "execution_count": 107,
      "metadata": {
        "colab": {
          "base_uri": "https://localhost:8080/"
        },
        "id": "N_m-xNPEA_38",
        "outputId": "00e8ff63-ea19-4a33-aebe-573c87dd18f3"
      },
      "outputs": [
        {
          "output_type": "execute_result",
          "data": {
            "text/plain": [
              "(tensor([3., 6., 9.]), torch.float32)"
            ]
          },
          "metadata": {},
          "execution_count": 107
        }
      ],
      "source": [
        "# Float 32 Tensor\n",
        "float_32_tensor = torch.tensor([3.0, 6.0, 9.0],\n",
        "                               dtype=None, # What datatype is the tensor(e.g. float32 or float16)\n",
        "                               device=None,\n",
        "                               requires_grad=False)\n",
        "float_32_tensor, float_32_tensor.dtype"
      ]
    },
    {
      "cell_type": "code",
      "execution_count": 108,
      "metadata": {
        "colab": {
          "base_uri": "https://localhost:8080/"
        },
        "id": "nDCuE5QhBiXm",
        "outputId": "1bc33c8b-8006-4399-be83-5f7af56553ce"
      },
      "outputs": [
        {
          "output_type": "execute_result",
          "data": {
            "text/plain": [
              "(tensor([3., 6., 9.], dtype=torch.float16), torch.float16)"
            ]
          },
          "metadata": {},
          "execution_count": 108
        }
      ],
      "source": [
        "float_16_tensor = float_32_tensor.type(torch.float16)\n",
        "float_16_tensor, float_16_tensor.dtype"
      ]
    },
    {
      "cell_type": "code",
      "execution_count": 109,
      "metadata": {
        "colab": {
          "base_uri": "https://localhost:8080/"
        },
        "id": "QBGt6foNEaMd",
        "outputId": "f4cfb604-66da-4f35-aab0-549ec66f5ed1"
      },
      "outputs": [
        {
          "output_type": "execute_result",
          "data": {
            "text/plain": [
              "(tensor([[0.3507, 0.6683, 0.4601, 0.9545],\n",
              "         [0.1936, 0.8199, 0.3752, 0.6261],\n",
              "         [0.6456, 0.1400, 0.8216, 0.6671]]),\n",
              " torch.Size([3, 4]),\n",
              " <function Tensor.size>)"
            ]
          },
          "metadata": {},
          "execution_count": 109
        }
      ],
      "source": [
        "# Create a tensor and find out details about it\n",
        "some_tensor = torch.rand([3, 4])\n",
        "print(some_tensor)\n",
        "print(some_tensor.shape)\n",
        "print(some_tensor.size)"
      ]
    },
    {
      "cell_type": "code",
      "execution_count": 110,
      "metadata": {
        "colab": {
          "base_uri": "https://localhost:8080/"
        },
        "id": "SYjseZRivS4l",
        "outputId": "78149a01-8d8e-4bb0-92c7-f2ca9566c80b"
      },
      "outputs": [
        {
          "output_type": "stream",
          "name": "stdout",
          "text": [
            "tensor([[0.3507, 0.6683, 0.4601, 0.9545],\n",
            "        [0.1936, 0.8199, 0.3752, 0.6261],\n",
            "        [0.6456, 0.1400, 0.8216, 0.6671]])\n",
            "Datatype of the tensor: torch.float32\n",
            "shape of tensor: torch.Size([3, 4])\n",
            "Device of the tensor: cpu\n"
          ]
        }
      ],
      "source": [
        "# Details about this tensor\n",
        "print(some_tensor)\n",
        "print(f\"\\nDatatype of the tensor: {some_tensor.dtype}\")\n",
        "print(f\"shape of tensor: {some_tensor.shape}\")\n",
        "print(f\"Device of the tensor: {some_tensor.device}\") # The Default device is cpu"
      ]
    },
    {
      "cell_type": "markdown",
      "metadata": {
        "id": "iQAgZjFqvtXe"
      },
      "source": [
        "### Manipulating Tensors (tensor operations)\n",
        "\n",
        "Tensor operations include:\n",
        "* Addition\n",
        "* Subtraction\n",
        "* Multipication\n",
        "* Division\n",
        "* Matrix Multipication"
      ]
    },
    {
      "cell_type": "code",
      "execution_count": 111,
      "metadata": {
        "colab": {
          "base_uri": "https://localhost:8080/"
        },
        "id": "7dOhDKQSyDzq",
        "outputId": "b1d28397-e068-4475-c286-d2fd9864a9e1"
      },
      "outputs": [
        {
          "output_type": "execute_result",
          "data": {
            "text/plain": [
              "tensor([11, 12, 13])"
            ]
          },
          "metadata": {},
          "execution_count": 111
        }
      ],
      "source": [
        "# Create a tensor and add 10 to it\n",
        "tensor = torch.tensor([1, 2, 3])\n",
        "tensor + 10"
      ]
    },
    {
      "cell_type": "code",
      "execution_count": 112,
      "metadata": {
        "colab": {
          "base_uri": "https://localhost:8080/"
        },
        "id": "uu4Rk3rUyTA5",
        "outputId": "db22f27f-97d0-47ce-f5a9-ef161a8c6ace"
      },
      "outputs": [
        {
          "output_type": "execute_result",
          "data": {
            "text/plain": [
              "tensor([10, 20, 30])"
            ]
          },
          "metadata": {},
          "execution_count": 112
        }
      ],
      "source": [
        "# Try out Pytorch in-built functions\n",
        "torch.mul(tensor, 10)"
      ]
    },
    {
      "cell_type": "markdown",
      "metadata": {
        "id": "qBGqWGIHy_oK"
      },
      "source": [
        "### Matrix Multipication\n",
        "\n",
        "Two main ways of performing multipication in neural networks and deep learning:\n",
        "\n",
        "1. Element-wise Multipication\n",
        "2. Matrix Multipication (dot product)\n",
        "\n",
        "\n",
        "There are Two main rules that performing matrix multipication needs to satisfy:\n",
        "1. The **inner dimension** must match.\n",
        "2. The resulting matrix has the shape of the **outer dimensions**"
      ]
    },
    {
      "cell_type": "code",
      "execution_count": 113,
      "metadata": {
        "colab": {
          "base_uri": "https://localhost:8080/"
        },
        "id": "8g0tZBHr0B0H",
        "outputId": "fd7e934b-5952-40b5-e972-8d0e9898754d"
      },
      "outputs": [
        {
          "output_type": "stream",
          "name": "stdout",
          "text": [
            "tensor([1, 2, 3]) * tensor([1, 2, 3])\n",
            "Equals: tensor([1, 4, 9])\n"
          ]
        }
      ],
      "source": [
        "# Element-wise Multipication\n",
        "print(tensor, \"*\", tensor)\n",
        "print(f\"Equals: {tensor * tensor}\")"
      ]
    },
    {
      "cell_type": "code",
      "execution_count": 114,
      "metadata": {
        "colab": {
          "base_uri": "https://localhost:8080/"
        },
        "id": "7eT4JlF50k2h",
        "outputId": "c27949dc-d82f-40a2-c0fe-51c6bbe2897d"
      },
      "outputs": [
        {
          "output_type": "stream",
          "name": "stdout",
          "text": [
            "CPU times: user 147 µs, sys: 0 ns, total: 147 µs\n",
            "Wall time: 159 µs\n"
          ]
        },
        {
          "output_type": "execute_result",
          "data": {
            "text/plain": [
              "tensor(14)"
            ]
          },
          "metadata": {},
          "execution_count": 114
        }
      ],
      "source": [
        "# Matrix Multipication\n",
        "%%time\n",
        "torch.matmul(tensor, tensor)"
      ]
    },
    {
      "cell_type": "markdown",
      "metadata": {
        "id": "9B8rHeK308dX"
      },
      "source": [
        "### Finding the min, max, mean, sum, etc (tensor aggregation)"
      ]
    },
    {
      "cell_type": "code",
      "execution_count": 115,
      "metadata": {
        "colab": {
          "base_uri": "https://localhost:8080/"
        },
        "id": "CqQHY6jNFOqS",
        "outputId": "cd63c261-5921-4d50-9c6f-812d8f6aa961"
      },
      "outputs": [
        {
          "output_type": "execute_result",
          "data": {
            "text/plain": [
              "(tensor([ 0, 10, 20, 30, 40, 50, 60, 70, 80, 90]), torch.int64)"
            ]
          },
          "metadata": {},
          "execution_count": 115
        }
      ],
      "source": [
        "# Create a tensor\n",
        "x = torch.arange(0, 100, 10)\n",
        "x, x.dtype"
      ]
    },
    {
      "cell_type": "code",
      "execution_count": 116,
      "metadata": {
        "colab": {
          "base_uri": "https://localhost:8080/"
        },
        "id": "8S2wEA9RFVfp",
        "outputId": "bdf83c54-6ac7-4e78-a959-d171b77683d7"
      },
      "outputs": [
        {
          "output_type": "execute_result",
          "data": {
            "text/plain": [
              "(tensor(0), tensor(0))"
            ]
          },
          "metadata": {},
          "execution_count": 116
        }
      ],
      "source": [
        "# Find the min\n",
        "torch.min(x), x.min()"
      ]
    },
    {
      "cell_type": "code",
      "execution_count": 117,
      "metadata": {
        "colab": {
          "base_uri": "https://localhost:8080/"
        },
        "id": "rzpcRhYzFc6-",
        "outputId": "684609fd-55e2-4390-9a3c-6e0c82abaca6"
      },
      "outputs": [
        {
          "output_type": "execute_result",
          "data": {
            "text/plain": [
              "(tensor(90), tensor(90))"
            ]
          },
          "metadata": {},
          "execution_count": 117
        }
      ],
      "source": [
        "# Find the max\n",
        "torch.max(x), x.max()"
      ]
    },
    {
      "cell_type": "markdown",
      "metadata": {
        "id": "lTZjVdGEG_7a"
      },
      "source": [
        "**Note:** the torch.mean() function requires a tensor of float32 datatype to work."
      ]
    },
    {
      "cell_type": "code",
      "execution_count": 118,
      "metadata": {
        "colab": {
          "base_uri": "https://localhost:8080/"
        },
        "id": "rb5ZjMtEFh_B",
        "outputId": "b2c42b91-4323-4aa4-9056-39dffee33bd1"
      },
      "outputs": [
        {
          "output_type": "execute_result",
          "data": {
            "text/plain": [
              "(tensor(45.), tensor(45.))"
            ]
          },
          "metadata": {},
          "execution_count": 118
        }
      ],
      "source": [
        "# Find the mean -> torch tensor mean can't work with long datatype\n",
        "torch.mean(x.type(torch.float32)), x.type(torch.float32).mean()"
      ]
    },
    {
      "cell_type": "code",
      "execution_count": 119,
      "metadata": {
        "colab": {
          "base_uri": "https://localhost:8080/"
        },
        "id": "qfMffOweGjkC",
        "outputId": "b2374ca9-5d06-4f2a-d33c-f1a5790c3343"
      },
      "outputs": [
        {
          "output_type": "execute_result",
          "data": {
            "text/plain": [
              "(tensor(450), tensor(450))"
            ]
          },
          "metadata": {},
          "execution_count": 119
        }
      ],
      "source": [
        "# Find the sum\n",
        "torch.sum(x), x.sum()"
      ]
    },
    {
      "cell_type": "code",
      "execution_count": 120,
      "metadata": {
        "colab": {
          "base_uri": "https://localhost:8080/"
        },
        "id": "_pog7S_6HRUg",
        "outputId": "79f9974e-9919-4d08-bf76-b370ebc73f2e"
      },
      "outputs": [
        {
          "output_type": "stream",
          "name": "stdout",
          "text": [
            "CPU times: user 86 µs, sys: 3 µs, total: 89 µs\n",
            "Wall time: 93.9 µs\n"
          ]
        },
        {
          "output_type": "execute_result",
          "data": {
            "text/plain": [
              "tensor(450)"
            ]
          },
          "metadata": {},
          "execution_count": 120
        }
      ],
      "source": [
        "%%time\n",
        "torch.sum(x)"
      ]
    },
    {
      "cell_type": "code",
      "execution_count": 121,
      "metadata": {
        "colab": {
          "base_uri": "https://localhost:8080/"
        },
        "id": "HS4LJ-PMHXek",
        "outputId": "502b7c94-bde7-4c74-82a6-ca81b9641240"
      },
      "outputs": [
        {
          "output_type": "stream",
          "name": "stdout",
          "text": [
            "CPU times: user 101 µs, sys: 4 µs, total: 105 µs\n",
            "Wall time: 109 µs\n"
          ]
        },
        {
          "output_type": "execute_result",
          "data": {
            "text/plain": [
              "tensor(450)"
            ]
          },
          "metadata": {},
          "execution_count": 121
        }
      ],
      "source": [
        "%%time\n",
        "x.sum()"
      ]
    },
    {
      "cell_type": "markdown",
      "metadata": {
        "id": "0am_ty57Ha9A"
      },
      "source": [
        "### Finding the positional min and max"
      ]
    },
    {
      "cell_type": "code",
      "execution_count": 122,
      "metadata": {
        "colab": {
          "base_uri": "https://localhost:8080/"
        },
        "id": "GcvjELNh5qPk",
        "outputId": "e8ae403b-9ec8-4a44-81c0-40d1e7f84fa6"
      },
      "outputs": [
        {
          "output_type": "execute_result",
          "data": {
            "text/plain": [
              "tensor(0)"
            ]
          },
          "metadata": {},
          "execution_count": 122
        }
      ],
      "source": [
        "# Find the position in the tensor that has the minimum value with argmin()\n",
        "x.argmin()"
      ]
    },
    {
      "cell_type": "code",
      "execution_count": 123,
      "metadata": {
        "colab": {
          "base_uri": "https://localhost:8080/"
        },
        "id": "thwzxE_W5zEV",
        "outputId": "2a8a7710-1a5c-4254-e62f-a6842bcda1fd"
      },
      "outputs": [
        {
          "output_type": "execute_result",
          "data": {
            "text/plain": [
              "tensor(9)"
            ]
          },
          "metadata": {},
          "execution_count": 123
        }
      ],
      "source": [
        "# Find the position in the tensor that has the maximum value with argmax()\n",
        "x.argmax()"
      ]
    },
    {
      "cell_type": "markdown",
      "metadata": {
        "id": "69gNA8H958ML"
      },
      "source": [
        "### Reshaping, Stacking, Squeezing and Unsqueezing tensors\n",
        "\n",
        "* Reshaping - reshapes an input tensor to a defined shape.\n",
        "* View - Return a view of an input tensor of certain shape but keep the same memory as the original tensor.\n",
        "* Stacking - combine multiple tensors on top of each other.\n",
        "* Squeez - removes all `1` dimensions from a tensor.\n",
        "* Unsqueez - add a `1` dimension to a target tensor.\n",
        "* Permute - Return a view of the input with dimensions permuted(swapped) in a certain way."
      ]
    },
    {
      "cell_type": "code",
      "execution_count": 124,
      "metadata": {
        "colab": {
          "base_uri": "https://localhost:8080/"
        },
        "id": "gfa_q_52BLnU",
        "outputId": "346478a4-8e32-4169-a573-4ff6943dead7"
      },
      "outputs": [
        {
          "output_type": "execute_result",
          "data": {
            "text/plain": [
              "(tensor([ 1.,  2.,  3.,  4.,  5.,  6.,  7.,  8.,  9., 10.]), torch.Size([10]))"
            ]
          },
          "metadata": {},
          "execution_count": 124
        }
      ],
      "source": [
        "# Let's create a tensor\n",
        "x = torch.arange(1., 11.)\n",
        "x, x.shape"
      ]
    },
    {
      "cell_type": "code",
      "execution_count": 125,
      "metadata": {
        "colab": {
          "base_uri": "https://localhost:8080/"
        },
        "id": "HAMd8W47CETC",
        "outputId": "5ba1e83a-1f96-4ea7-e712-15a18dc26a81"
      },
      "outputs": [
        {
          "output_type": "stream",
          "name": "stdout",
          "text": [
            "tensor([[ 1.],\n",
            "        [ 2.],\n",
            "        [ 3.],\n",
            "        [ 4.],\n",
            "        [ 5.],\n",
            "        [ 6.],\n",
            "        [ 7.],\n",
            "        [ 8.],\n",
            "        [ 9.],\n",
            "        [10.]])\n",
            "\n",
            "torch.Size([10, 1])\n",
            "\n",
            "tensor([[ 1.,  2.,  3.,  4.,  5.,  6.,  7.,  8.,  9., 10.]])\n"
          ]
        }
      ],
      "source": [
        "# Add an extra dimension:\n",
        "x_reshaped = x.reshape((10, 1))\n",
        "x_reshaped_T = x.reshape((1, 10))\n",
        "print(x_reshaped)\n",
        "print(f\"\\n{x_reshaped.shape}\")\n",
        "print(f\"\\n{x_reshaped_T}\")"
      ]
    },
    {
      "cell_type": "markdown",
      "metadata": {
        "id": "xGBCm8p6aZxQ"
      },
      "source": [
        "**Note:** View shares the memory with original tensor.\n",
        "\n",
        "Changing Z changes x (because a view of a tensor shares the same memory as the original)"
      ]
    },
    {
      "cell_type": "code",
      "execution_count": 126,
      "metadata": {
        "colab": {
          "base_uri": "https://localhost:8080/"
        },
        "id": "kiRLw9j3CIeg",
        "outputId": "ffe0239a-36bd-424e-e62f-1c57a83a3b72"
      },
      "outputs": [
        {
          "output_type": "execute_result",
          "data": {
            "text/plain": [
              "(tensor([[ 1.,  2.,  3.,  4.,  5.,  6.,  7.,  8.,  9., 10.]]),\n",
              " torch.Size([1, 10]))"
            ]
          },
          "metadata": {},
          "execution_count": 126
        }
      ],
      "source": [
        "# Change View\n",
        "z = x.view(1, 10)\n",
        "print(z)\n",
        "print(z.shape)"
      ]
    },
    {
      "cell_type": "code",
      "execution_count": 127,
      "metadata": {
        "colab": {
          "base_uri": "https://localhost:8080/"
        },
        "id": "Dmx656EWaPS3",
        "outputId": "3b68bd3f-79da-4cff-8bff-e76e4c19ade7"
      },
      "outputs": [
        {
          "output_type": "execute_result",
          "data": {
            "text/plain": [
              "(tensor([[ 5.,  2.,  3.,  4.,  5.,  6.,  7.,  8.,  9., 10.]]),\n",
              " tensor([ 5.,  2.,  3.,  4.,  5.,  6.,  7.,  8.,  9., 10.]))"
            ]
          },
          "metadata": {},
          "execution_count": 127
        }
      ],
      "source": [
        "z[:, 0] = 5\n",
        "print(z)\n",
        "print(x)"
      ]
    },
    {
      "cell_type": "code",
      "execution_count": 128,
      "metadata": {
        "colab": {
          "base_uri": "https://localhost:8080/"
        },
        "id": "CGoDU5xqa-Gg",
        "outputId": "08c12c7d-ae8b-4639-e324-aacc7a2bc23e"
      },
      "outputs": [
        {
          "output_type": "execute_result",
          "data": {
            "text/plain": [
              "tensor([[ 5.,  5.,  5.,  5.],\n",
              "        [ 2.,  2.,  2.,  2.],\n",
              "        [ 3.,  3.,  3.,  3.],\n",
              "        [ 4.,  4.,  4.,  4.],\n",
              "        [ 5.,  5.,  5.,  5.],\n",
              "        [ 6.,  6.,  6.,  6.],\n",
              "        [ 7.,  7.,  7.,  7.],\n",
              "        [ 8.,  8.,  8.,  8.],\n",
              "        [ 9.,  9.,  9.,  9.],\n",
              "        [10., 10., 10., 10.]])"
            ]
          },
          "metadata": {},
          "execution_count": 128
        }
      ],
      "source": [
        "# Stack tensors on top of each other\n",
        "x_stacked = torch.stack([x, x, x, x], dim=-1)\n",
        "x_stacked"
      ]
    },
    {
      "cell_type": "markdown",
      "source": [
        "## Indexing (Selecting data from tensors)\n",
        "\n",
        "Indexing with PyTorch is similar to indexing with NumPy."
      ],
      "metadata": {
        "id": "jBOUekrkcNZn"
      }
    },
    {
      "cell_type": "code",
      "source": [
        "# Create a Tensor\n",
        "x = torch.arange(1, 10).reshape(1, 3, 3)\n",
        "print(x)\n",
        "print(f\"\\n{x.shape}\")"
      ],
      "metadata": {
        "colab": {
          "base_uri": "https://localhost:8080/"
        },
        "id": "j4orOcyvcwH6",
        "outputId": "89ffec8f-4bbf-4732-dd32-a7c88e5f15aa"
      },
      "execution_count": 129,
      "outputs": [
        {
          "output_type": "execute_result",
          "data": {
            "text/plain": [
              "(tensor([[[1, 2, 3],\n",
              "          [4, 5, 6],\n",
              "          [7, 8, 9]]]),\n",
              " torch.Size([1, 3, 3]))"
            ]
          },
          "metadata": {},
          "execution_count": 129
        }
      ]
    },
    {
      "cell_type": "code",
      "source": [
        "# Lets index our new tensor\n",
        "x[0]"
      ],
      "metadata": {
        "colab": {
          "base_uri": "https://localhost:8080/"
        },
        "id": "CNCImL83c5N_",
        "outputId": "45a85a30-b80f-493f-bb59-d2b5dc7c2af3"
      },
      "execution_count": 130,
      "outputs": [
        {
          "output_type": "execute_result",
          "data": {
            "text/plain": [
              "tensor([[1, 2, 3],\n",
              "        [4, 5, 6],\n",
              "        [7, 8, 9]])"
            ]
          },
          "metadata": {},
          "execution_count": 130
        }
      ]
    },
    {
      "cell_type": "code",
      "source": [
        "# Lets index on middle bracket (dim=1)\n",
        "print(x[0][0]) # Or\n",
        "print(x[0, 0])"
      ],
      "metadata": {
        "colab": {
          "base_uri": "https://localhost:8080/"
        },
        "id": "PvjSp7RwdHBr",
        "outputId": "24d6472b-4b80-4131-b708-54741cdcf0e1"
      },
      "execution_count": 131,
      "outputs": [
        {
          "output_type": "stream",
          "name": "stdout",
          "text": [
            "tensor([1, 2, 3])\n",
            "tensor([1, 2, 3])\n"
          ]
        }
      ]
    },
    {
      "cell_type": "code",
      "source": [
        "# Let's index on the most inner bracket (last dimension)\n",
        "print(x[0][0][0]) # Or\n",
        "print(x[0, 0, 0])"
      ],
      "metadata": {
        "colab": {
          "base_uri": "https://localhost:8080/"
        },
        "id": "VKMixjI1dPVO",
        "outputId": "faab6354-6394-4b63-a337-6f7d22b78e4d"
      },
      "execution_count": 132,
      "outputs": [
        {
          "output_type": "stream",
          "name": "stdout",
          "text": [
            "tensor(1)\n",
            "tensor(1)\n"
          ]
        }
      ]
    },
    {
      "cell_type": "code",
      "source": [
        "# Playing with indexes:\n",
        "print(x)\n",
        "print(x[0, 1])"
      ],
      "metadata": {
        "colab": {
          "base_uri": "https://localhost:8080/"
        },
        "id": "SL149dvAelmD",
        "outputId": "e8c20c21-0fac-48a9-f2d4-a944dd2d7ab9"
      },
      "execution_count": 133,
      "outputs": [
        {
          "output_type": "stream",
          "name": "stdout",
          "text": [
            "tensor([[[1, 2, 3],\n",
            "         [4, 5, 6],\n",
            "         [7, 8, 9]]])\n",
            "tensor([4, 5, 6])\n"
          ]
        }
      ]
    },
    {
      "cell_type": "code",
      "source": [
        "print(x)\n",
        "print(x[0, 0, 1])"
      ],
      "metadata": {
        "colab": {
          "base_uri": "https://localhost:8080/"
        },
        "id": "FSLVhYkTe0vb",
        "outputId": "214819e7-ba3f-47ee-a9cb-0d3730291080"
      },
      "execution_count": 134,
      "outputs": [
        {
          "output_type": "stream",
          "name": "stdout",
          "text": [
            "tensor([[[1, 2, 3],\n",
            "         [4, 5, 6],\n",
            "         [7, 8, 9]]])\n",
            "tensor(2)\n"
          ]
        }
      ]
    },
    {
      "cell_type": "code",
      "source": [
        "print(x)\n",
        "print(x[0, 1, 0])"
      ],
      "metadata": {
        "colab": {
          "base_uri": "https://localhost:8080/"
        },
        "id": "mtAlYZpDe-5w",
        "outputId": "e2a0ca0a-a74b-486d-87c7-588f201e0525"
      },
      "execution_count": 135,
      "outputs": [
        {
          "output_type": "stream",
          "name": "stdout",
          "text": [
            "tensor([[[1, 2, 3],\n",
            "         [4, 5, 6],\n",
            "         [7, 8, 9]]])\n",
            "tensor(4)\n"
          ]
        }
      ]
    },
    {
      "cell_type": "code",
      "source": [
        "print(x)\n",
        "print(x[0, 2, 0])"
      ],
      "metadata": {
        "colab": {
          "base_uri": "https://localhost:8080/"
        },
        "id": "7ZpL4ULNfiZ7",
        "outputId": "eed14c1c-0791-40ce-8b51-a387b6e05b92"
      },
      "execution_count": 136,
      "outputs": [
        {
          "output_type": "stream",
          "name": "stdout",
          "text": [
            "tensor([[[1, 2, 3],\n",
            "         [4, 5, 6],\n",
            "         [7, 8, 9]]])\n",
            "tensor(7)\n"
          ]
        }
      ]
    },
    {
      "cell_type": "code",
      "source": [
        "# You can also use \":\" to  select \"all\" of the target dimension\n",
        "print(x)\n",
        "print(x[:, 0]) # First row\n",
        "print(x[:, 1]) # Second row\n",
        "print(x[:, 2]) # Third row"
      ],
      "metadata": {
        "colab": {
          "base_uri": "https://localhost:8080/"
        },
        "id": "wVOTW6-JfnyI",
        "outputId": "7456905e-7085-431a-e521-c34f82bffb20"
      },
      "execution_count": 137,
      "outputs": [
        {
          "output_type": "stream",
          "name": "stdout",
          "text": [
            "tensor([[[1, 2, 3],\n",
            "         [4, 5, 6],\n",
            "         [7, 8, 9]]])\n",
            "tensor([[1, 2, 3]])\n",
            "tensor([[4, 5, 6]])\n",
            "tensor([[7, 8, 9]])\n"
          ]
        }
      ]
    },
    {
      "cell_type": "code",
      "source": [
        "# Get all values of 0th and 1st dimension but only index 1 of 2nd dimension\n",
        "print(x)\n",
        "print(x[:, :, 1]) # Second coloumn"
      ],
      "metadata": {
        "colab": {
          "base_uri": "https://localhost:8080/"
        },
        "id": "hQPDplvTgTCT",
        "outputId": "5b797c86-7735-4bfa-d875-7f4d464de50d"
      },
      "execution_count": 138,
      "outputs": [
        {
          "output_type": "stream",
          "name": "stdout",
          "text": [
            "tensor([[[1, 2, 3],\n",
            "         [4, 5, 6],\n",
            "         [7, 8, 9]]])\n",
            "tensor([[2, 5, 8]])\n"
          ]
        }
      ]
    },
    {
      "cell_type": "code",
      "source": [
        "# Get all values of 0th and 1st dimension but only index 0 of 2nd dimension\n",
        "print(x)\n",
        "print(x[:, :, 0])"
      ],
      "metadata": {
        "colab": {
          "base_uri": "https://localhost:8080/"
        },
        "id": "aaP-f0Slh0Qq",
        "outputId": "dc348b7d-f8c9-4174-a338-8530456ae891"
      },
      "execution_count": 139,
      "outputs": [
        {
          "output_type": "stream",
          "name": "stdout",
          "text": [
            "tensor([[[1, 2, 3],\n",
            "         [4, 5, 6],\n",
            "         [7, 8, 9]]])\n",
            "tensor([[1, 4, 7]])\n"
          ]
        }
      ]
    },
    {
      "cell_type": "code",
      "source": [
        "# Get index 0 of 0th and 1st dimension and all values of 2nd dimension\n",
        "print(x)\n",
        "print(x[:, 1, 1])"
      ],
      "metadata": {
        "colab": {
          "base_uri": "https://localhost:8080/"
        },
        "id": "mBx_tRZBiHbz",
        "outputId": "db0a5fe3-0b56-4499-d18d-d8a06bd548e7"
      },
      "execution_count": 140,
      "outputs": [
        {
          "output_type": "stream",
          "name": "stdout",
          "text": [
            "tensor([[[1, 2, 3],\n",
            "         [4, 5, 6],\n",
            "         [7, 8, 9]]])\n",
            "tensor([5])\n"
          ]
        }
      ]
    },
    {
      "cell_type": "code",
      "source": [
        "# Get all values of 0th and 1st dimension but only index 2 of seconed dimension\n",
        "print(x)\n",
        "print(x[:, :, 2])"
      ],
      "metadata": {
        "colab": {
          "base_uri": "https://localhost:8080/"
        },
        "id": "FejmXidrj0xG",
        "outputId": "8ae58330-4cff-4bc0-a7a7-9ef02526dc9f"
      },
      "execution_count": 141,
      "outputs": [
        {
          "output_type": "stream",
          "name": "stdout",
          "text": [
            "tensor([[[1, 2, 3],\n",
            "         [4, 5, 6],\n",
            "         [7, 8, 9]]])\n",
            "tensor([[3, 6, 9]])\n"
          ]
        }
      ]
    },
    {
      "cell_type": "markdown",
      "source": [
        "## PyTorch tensors and NumPy\n",
        "\n",
        "* Data in NumPy, want in PyTorch tensor -> torch.from_numpy(ndarray)\n",
        "* PyTorch tensor -> NumPy -> `torch.Tensor.numpy()`"
      ],
      "metadata": {
        "id": "m2seNlYCkTCe"
      }
    },
    {
      "cell_type": "code",
      "source": [
        "# Numpy array to tensor\n",
        "import torch\n",
        "import numpy as np\n",
        "\n",
        "array = np.arange(1.0, 10.0)\n",
        "tensor = torch.from_numpy(array)\n",
        "print(f\"Numpy array: {array}\")\n",
        "print(f\"Numpy array converted to torch tensor: {tensor}\")"
      ],
      "metadata": {
        "colab": {
          "base_uri": "https://localhost:8080/"
        },
        "id": "86yhFEtgk2F1",
        "outputId": "21858c97-951c-4824-c450-94c6ccc1706a"
      },
      "execution_count": 142,
      "outputs": [
        {
          "output_type": "stream",
          "name": "stdout",
          "text": [
            "Numpy array: [1. 2. 3. 4. 5. 6. 7. 8. 9.]\n",
            "Numpy array converted to torch tensor: tensor([1., 2., 3., 4., 5., 6., 7., 8., 9.], dtype=torch.float64)\n"
          ]
        }
      ]
    },
    {
      "cell_type": "code",
      "source": [
        "# Let's check the data type of numpy array and torch tensor:\n",
        "print(f\"Datatype of numpy array is {array.dtype}\")\n",
        "print(f\"Datatype of torch tensor is {tensor.dtype}\")"
      ],
      "metadata": {
        "colab": {
          "base_uri": "https://localhost:8080/"
        },
        "id": "ng11xFUbmOGy",
        "outputId": "24afa058-a4df-4841-ebae-cfdb885512f3"
      },
      "execution_count": 143,
      "outputs": [
        {
          "output_type": "stream",
          "name": "stdout",
          "text": [
            "Datatype of numpy array is float64\n",
            "Datatype of torch tensor is torch.float64\n"
          ]
        }
      ]
    },
    {
      "cell_type": "code",
      "source": [
        "# Create a Random tensor and check it's datatype\n",
        "x = torch.arange(1., 10.)\n",
        "x.dtype"
      ],
      "metadata": {
        "colab": {
          "base_uri": "https://localhost:8080/"
        },
        "id": "pXoPOKjqmWsx",
        "outputId": "78680ccc-993b-4382-86c4-827caac30743"
      },
      "execution_count": 144,
      "outputs": [
        {
          "output_type": "execute_result",
          "data": {
            "text/plain": [
              "torch.float32"
            ]
          },
          "metadata": {},
          "execution_count": 144
        }
      ]
    },
    {
      "cell_type": "markdown",
      "source": [
        " - As you can see, the datatype of *numpy-created-array* is allways **float64** and when you convert it to a tensor, it will be as the same datatype as before.\n",
        "\n",
        " - but a torch-created-tensor will has a type of **torch.float32**.\n",
        "\n",
        " **WARNING:* When converting from NumPy -> PyTorch, PyTorch reflects numpy's default datatype of float64 unless specified otherwise."
      ],
      "metadata": {
        "id": "hyv_gQ3Im3ov"
      }
    },
    {
      "cell_type": "code",
      "source": [
        "tensor.type(torch.float32)\n",
        "tensor.dtype"
      ],
      "metadata": {
        "colab": {
          "base_uri": "https://localhost:8080/"
        },
        "id": "6S_6M5LtnSjD",
        "outputId": "70948164-eafa-47fe-8363-90b06da2adfa"
      },
      "execution_count": 145,
      "outputs": [
        {
          "output_type": "execute_result",
          "data": {
            "text/plain": [
              "torch.float64"
            ]
          },
          "metadata": {},
          "execution_count": 145
        }
      ]
    },
    {
      "cell_type": "code",
      "source": [
        "# Change the Value of array, what will this do to 'tensor'?\n",
        "array = array + 1\n",
        "print(array)\n",
        "print(tensor)\n",
        "print(\"Tensor does not share memory with numpy array\")"
      ],
      "metadata": {
        "colab": {
          "base_uri": "https://localhost:8080/"
        },
        "id": "HcfjChpHnrrC",
        "outputId": "2064e073-2065-4f2b-849d-17c6e270bb1a"
      },
      "execution_count": 146,
      "outputs": [
        {
          "output_type": "stream",
          "name": "stdout",
          "text": [
            "[ 2.  3.  4.  5.  6.  7.  8.  9. 10.]\n",
            "tensor([1., 2., 3., 4., 5., 6., 7., 8., 9.], dtype=torch.float64)\n",
            "Tensor does not share memory with numpy array\n"
          ]
        }
      ]
    },
    {
      "cell_type": "code",
      "source": [
        "# Tensor to Numpy array\n",
        "tensor = torch.ones(7) # datatype -> float32\n",
        "numpy_tensor = tensor.numpy()\n",
        "tensor, numpy_tensor"
      ],
      "metadata": {
        "id": "zSQ_bUg7onZo",
        "colab": {
          "base_uri": "https://localhost:8080/"
        },
        "outputId": "13a635e5-b94e-4a60-c195-55fe0e58072e"
      },
      "execution_count": 147,
      "outputs": [
        {
          "output_type": "execute_result",
          "data": {
            "text/plain": [
              "(tensor([1., 1., 1., 1., 1., 1., 1.]),\n",
              " array([1., 1., 1., 1., 1., 1., 1.], dtype=float32))"
            ]
          },
          "metadata": {},
          "execution_count": 147
        }
      ]
    },
    {
      "cell_type": "markdown",
      "source": [
        "The datatype of the Tensor -> Numpy array is as the same as the Tensor's datatype (default float32)"
      ],
      "metadata": {
        "id": "OoHy-Mg7-m3r"
      }
    },
    {
      "cell_type": "code",
      "source": [
        "# Change the Tensor, What happens to 'numpy_tensor'?\n",
        "tensor = tensor + 1\n",
        "print(tensor)\n",
        "print(numpy_tensor)"
      ],
      "metadata": {
        "colab": {
          "base_uri": "https://localhost:8080/"
        },
        "id": "Yb-_N2_e-cw6",
        "outputId": "65355f96-7912-49f5-e1ca-802c739f1a5a"
      },
      "execution_count": 148,
      "outputs": [
        {
          "output_type": "stream",
          "name": "stdout",
          "text": [
            "tensor([2., 2., 2., 2., 2., 2., 2.])\n",
            "[1. 1. 1. 1. 1. 1. 1.]\n"
          ]
        }
      ]
    },
    {
      "cell_type": "markdown",
      "source": [
        "So Tensor arrays does not share memory with converted-numpy-array.\n",
        "\n",
        "For more examples and exercises, Check out https://pytorch.org/tutorials/beginner/examples_tensor/polynomial_numpy.html ."
      ],
      "metadata": {
        "id": "iIqR5sAP-_i7"
      }
    },
    {
      "cell_type": "markdown",
      "source": [
        "## Reproducibility (trying to take random out of random)\n",
        "\n",
        "In short how a neural network learns:\n",
        "\n",
        "`start with random numbers -> tensor operations -> update random numbers to try and make them better representations of data of the data -> again -> again -> again ..`\n",
        "\n",
        "To reduce randomness in neural networks and PyTorch comes the concept of a **random seed**.\n",
        "\n",
        "Essentially what a random seed does is \"flavour\" the randomness.\n",
        "\n",
        "More information on https://pytorch.org/docs/stable/notes/randomness.html"
      ],
      "metadata": {
        "id": "XV3axt9p-9cT"
      }
    },
    {
      "cell_type": "code",
      "source": [
        "torch.rand(3, 3) # Every time we run this cell it gives us different numbers"
      ],
      "metadata": {
        "colab": {
          "base_uri": "https://localhost:8080/"
        },
        "id": "aRDlOL48ASHr",
        "outputId": "729e29f2-fd3a-4d63-97bd-234326305771"
      },
      "execution_count": 149,
      "outputs": [
        {
          "output_type": "execute_result",
          "data": {
            "text/plain": [
              "tensor([[0.1167, 0.3571, 0.5386],\n",
              "        [0.2662, 0.1353, 0.1664],\n",
              "        [0.5620, 0.3337, 0.3034]])"
            ]
          },
          "metadata": {},
          "execution_count": 149
        }
      ]
    },
    {
      "cell_type": "code",
      "source": [
        "import torch\n",
        "\n",
        "# Create two random tensors\n",
        "tensor_A = torch.rand(3, 4)\n",
        "tensor_B = torch.rand(3, 4)\n",
        "\n",
        "print(tensor_A)\n",
        "print(f\"\\n{tensor_B}\")\n",
        "print(f\"\\n{tensor_A == tensor_B}\")"
      ],
      "metadata": {
        "colab": {
          "base_uri": "https://localhost:8080/"
        },
        "id": "AYJrmhFLAYQI",
        "outputId": "b9965e87-d0f0-4138-b3a2-0653fd299410"
      },
      "execution_count": 150,
      "outputs": [
        {
          "output_type": "stream",
          "name": "stdout",
          "text": [
            "tensor([[0.6037, 0.1452, 0.8953, 0.4402],\n",
            "        [0.7838, 0.2089, 0.1943, 0.7621],\n",
            "        [0.4492, 0.9147, 0.4331, 0.7791]])\n",
            "\n",
            "tensor([[0.1290, 0.4005, 0.3250, 0.1490],\n",
            "        [0.6707, 0.9793, 0.3283, 0.3403],\n",
            "        [0.6935, 0.0863, 0.0825, 0.2319]])\n",
            "\n",
            "tensor([[False, False, False, False],\n",
            "        [False, False, False, False],\n",
            "        [False, False, False, False]])\n"
          ]
        }
      ]
    },
    {
      "cell_type": "code",
      "source": [
        "# Let's make some random but reproducible tensors\n",
        "import torch\n",
        "\n",
        "# Set the random seed\n",
        "RANDOM_SEED = 42 # 42 is the common one but you can use every number you want.\n",
        "\n",
        "# Create Random Tensors\n",
        "torch.manual_seed(RANDOM_SEED)\n",
        "tensor_C = torch.rand(3, 4)\n",
        "\n",
        "torch.manual_seed(RANDOM_SEED)\n",
        "tensor_D = torch.rand(3, 4)\n",
        "\n",
        "print(tensor_C)\n",
        "print(f\"\\n{tensor_D}\")\n",
        "print(f\"\\n{tensor_C == tensor_D}\")"
      ],
      "metadata": {
        "colab": {
          "base_uri": "https://localhost:8080/"
        },
        "id": "s5qT8KR-B-x9",
        "outputId": "0f0c3189-175d-428b-a369-82a46e8de7ae"
      },
      "execution_count": 151,
      "outputs": [
        {
          "output_type": "stream",
          "name": "stdout",
          "text": [
            "tensor([[0.8823, 0.9150, 0.3829, 0.9593],\n",
            "        [0.3904, 0.6009, 0.2566, 0.7936],\n",
            "        [0.9408, 0.1332, 0.9346, 0.5936]])\n",
            "\n",
            "tensor([[0.8823, 0.9150, 0.3829, 0.9593],\n",
            "        [0.3904, 0.6009, 0.2566, 0.7936],\n",
            "        [0.9408, 0.1332, 0.9346, 0.5936]])\n",
            "\n",
            "tensor([[True, True, True, True],\n",
            "        [True, True, True, True],\n",
            "        [True, True, True, True]])\n"
          ]
        }
      ]
    },
    {
      "cell_type": "markdown",
      "source": [
        "## Running Tensor and PyTorch objects on the GPUs (and making faster computations)\n",
        "\n",
        "GPU = faster computation on numbers, thanks to CUDA + NVIDIA harware + PyTorch working behind the scenes to make everything hunky dory (good)."
      ],
      "metadata": {
        "id": "JYfji5OSDqWw"
      }
    },
    {
      "cell_type": "markdown",
      "source": [
        "### 1. Getting a GPU\n",
        "\n",
        "1. Easiest - Use Google Colab for a free GPU (options to upgrade as well)\n",
        "2. use your own GPU - takes a little bit of setup and requires the investment of purchasing a GPU, there's lots of options.\n",
        "3. Use cloud computing - GCP, AWS, Azure, these services aloow you to rent computers on the cloud an access them.\n",
        "\n",
        "For 2 and 3 PyTorch + GPU drivers (CUDA) takes a little bit of setting up, to do this refer to PyTorch setup documentation.\n",
        "\n",
        "- Start Locally: https://pytorch.org/get-started/locally/\n",
        "\n",
        "- Start on Cloud services: https://pytorch.org/get-started/cloud-partners/"
      ],
      "metadata": {
        "id": "LmmleBUZKIko"
      }
    },
    {
      "cell_type": "code",
      "source": [
        "!nvidia-smi"
      ],
      "metadata": {
        "colab": {
          "base_uri": "https://localhost:8080/"
        },
        "id": "vTzyv5nzLjxi",
        "outputId": "d62d184e-31ac-4e9c-fce2-664966b8322e"
      },
      "execution_count": 152,
      "outputs": [
        {
          "output_type": "stream",
          "name": "stdout",
          "text": [
            "/bin/bash: line 1: nvidia-smi: command not found\n"
          ]
        }
      ]
    },
    {
      "cell_type": "markdown",
      "source": [
        "### 2. Check for GPU acess with PyTorch"
      ],
      "metadata": {
        "id": "XppBzCOdMOrS"
      }
    },
    {
      "cell_type": "code",
      "source": [
        "import torch\n",
        "\n",
        "torch.cuda.is_available()"
      ],
      "metadata": {
        "colab": {
          "base_uri": "https://localhost:8080/"
        },
        "id": "z7V5fzSVNJfj",
        "outputId": "f91c57ef-422a-4b74-f596-4e70b6b3a55d"
      },
      "execution_count": 154,
      "outputs": [
        {
          "output_type": "execute_result",
          "data": {
            "text/plain": [
              "False"
            ]
          },
          "metadata": {},
          "execution_count": 154
        }
      ]
    },
    {
      "cell_type": "code",
      "source": [
        "# Setup device agnostic code\n",
        "device = \"cuda\" if torch.cuda.is_available() else \"cpu\"\n",
        "device"
      ],
      "metadata": {
        "colab": {
          "base_uri": "https://localhost:8080/",
          "height": 36
        },
        "id": "iUClpqeQNX05",
        "outputId": "2a722cad-3acb-4133-8b83-91cf59652591"
      },
      "execution_count": 155,
      "outputs": [
        {
          "output_type": "execute_result",
          "data": {
            "text/plain": [
              "'cpu'"
            ],
            "application/vnd.google.colaboratory.intrinsic+json": {
              "type": "string"
            }
          },
          "metadata": {},
          "execution_count": 155
        }
      ]
    },
    {
      "cell_type": "markdown",
      "source": [
        "For PyTorch since it's capble of running compute on the GPU or CPU, it's a best practice to setup device agnostic code:\n",
        "https://pytorch.org/docs/stable/notes/cuda.html#best-practices"
      ],
      "metadata": {
        "id": "GrHDmp-bOL_D"
      }
    },
    {
      "cell_type": "code",
      "source": [
        "# Count the number of devices -> device_count()\n",
        "torch.cuda.device_count()"
      ],
      "metadata": {
        "colab": {
          "base_uri": "https://localhost:8080/"
        },
        "id": "pYusgF4ENuZS",
        "outputId": "1769737e-4753-4152-baba-1d0c31ca34fb"
      },
      "execution_count": 156,
      "outputs": [
        {
          "output_type": "execute_result",
          "data": {
            "text/plain": [
              "0"
            ]
          },
          "metadata": {},
          "execution_count": 156
        }
      ]
    },
    {
      "cell_type": "markdown",
      "source": [
        "## 3. Putting tensors (and models) on the GPU\n",
        "\n",
        "The reason we want out tensors/models on the GPU is because using a GPU results in faster computations."
      ],
      "metadata": {
        "id": "e0q-jfpyN3BP"
      }
    },
    {
      "cell_type": "code",
      "source": [
        "# Create a tensor (default on CPU)\n",
        "tensor = torch.tensor([1, 2, 3])\n",
        "\n",
        "# Tensor not on GPU\n",
        "print(tensor, tensor.device)"
      ],
      "metadata": {
        "colab": {
          "base_uri": "https://localhost:8080/"
        },
        "id": "6HVzBg5OPXGR",
        "outputId": "cf80b35a-d17c-4ac2-80a9-ef265f4ea11f"
      },
      "execution_count": 157,
      "outputs": [
        {
          "output_type": "stream",
          "name": "stdout",
          "text": [
            "tensor([1, 2, 3]) cpu\n"
          ]
        }
      ]
    },
    {
      "cell_type": "code",
      "source": [
        "# Move tensor to GPU (if available)\n",
        "tensor_on_gpu = tensor.to(device)\n",
        "tensor_on_gpu, tensor.device # depends on your device in google colab"
      ],
      "metadata": {
        "colab": {
          "base_uri": "https://localhost:8080/"
        },
        "id": "KWUK9uIpQT-2",
        "outputId": "10fbdc08-c186-4272-d43d-46eb1d180375"
      },
      "execution_count": 159,
      "outputs": [
        {
          "output_type": "execute_result",
          "data": {
            "text/plain": [
              "(tensor([1, 2, 3]), device(type='cpu'))"
            ]
          },
          "metadata": {},
          "execution_count": 159
        }
      ]
    },
    {
      "cell_type": "markdown",
      "source": [
        "### 4. Moving tensors back to the CPU\n",
        "\n",
        "For example, numpy only works with CPU. So you need to conver GPU-tensors to CPU-tensors."
      ],
      "metadata": {
        "id": "325e-itJQzwu"
      }
    },
    {
      "cell_type": "code",
      "source": [
        "# If tensor is on GPU, can't transform it to NumPy\n",
        "tensor_on_gpu.numpy() # IF you are on GPU, it will end to TypeError"
      ],
      "metadata": {
        "colab": {
          "base_uri": "https://localhost:8080/"
        },
        "id": "AHTogihWRKXI",
        "outputId": "750ae362-1054-4baf-a6a7-5950565ddfab"
      },
      "execution_count": 161,
      "outputs": [
        {
          "output_type": "execute_result",
          "data": {
            "text/plain": [
              "array([1, 2, 3])"
            ]
          },
          "metadata": {},
          "execution_count": 161
        }
      ]
    },
    {
      "cell_type": "code",
      "source": [
        "# To fix the GPU tensor with NumPy issue, wew can first set it on the CPU\n",
        "\n",
        "tensor_back_on_cpu = tensor_on_gpu.cpu().numpy()\n",
        "tensor_back_on_cpu"
      ],
      "metadata": {
        "colab": {
          "base_uri": "https://localhost:8080/"
        },
        "id": "J-yt4PnvRXFL",
        "outputId": "c21e09c6-3b6d-43af-c8c5-9f282c0e7cb2"
      },
      "execution_count": 165,
      "outputs": [
        {
          "output_type": "execute_result",
          "data": {
            "text/plain": [
              "array([1, 2, 3])"
            ]
          },
          "metadata": {},
          "execution_count": 165
        }
      ]
    }
  ],
  "metadata": {
    "accelerator": "GPU",
    "colab": {
      "gpuType": "T4",
      "provenance": []
    },
    "kernelspec": {
      "display_name": "Python 3",
      "name": "python3"
    },
    "language_info": {
      "name": "python"
    }
  },
  "nbformat": 4,
  "nbformat_minor": 0
}